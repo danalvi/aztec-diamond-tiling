{
 "cells": [
  {
   "cell_type": "code",
   "execution_count": 6,
   "id": "d9a65700",
   "metadata": {},
   "outputs": [],
   "source": [
    "import math"
   ]
  },
  {
   "cell_type": "code",
   "execution_count": 7,
   "id": "4dd531b2",
   "metadata": {},
   "outputs": [],
   "source": [
    "import diamond as Aztec # the (rather complicated) data structure"
   ]
  },
  {
   "cell_type": "code",
   "execution_count": 8,
   "id": "3b2f56c1",
   "metadata": {},
   "outputs": [],
   "source": [
    "import tiling # this contains the algorithm(s) i.e. for tiling and the height function "
   ]
  },
  {
   "cell_type": "code",
   "execution_count": 9,
   "id": "0fca9ecb",
   "metadata": {},
   "outputs": [],
   "source": [
    "sizes = [25, 50, 75, 100]"
   ]
  },
  {
   "cell_type": "code",
   "execution_count": 13,
   "id": "22cd0c3c",
   "metadata": {},
   "outputs": [],
   "source": [
    "def Z(x,y) :\n",
    "    (2 / math.pi) [ (x - 1/2) * math.arctan( (math.sqrt(1/4 - (x-1/2)**2 - (y - 1/2)**2)) / (1/2 - y) )\n",
    "                   + (1/2)* math.arctan( (2*(x - 1/2)*(1/2 - y)) / (math.sqrt(1/4 - (x - 1/2)**2 - (y - 1/2)**2)) ) \n",
    "                   - (1/2 - y)* math.arctan( (x - 1/2) / math.sqrt(1/4 - (x - 1/2)**2 - (y - 1/2)**2 ) )]"
   ]
  },
  {
   "cell_type": "code",
   "execution_count": 15,
   "id": "dba05067",
   "metadata": {},
   "outputs": [],
   "source": [
    "def f_star(y, x) :\n",
    "    if (y > 0 and y < 1 / 2) :\n",
    "        if(x >= 0 and x <= (1 - 2*math.sqrt(y*(1-y))) / 2) :\n",
    "            return 0\n",
    "        elif (x > ((1 - 2*math.sqrt(y*(1-y))) / 2 ) and x < ((1 + 2*math.sqrt(y*(1-y))) / 2 )) :\n",
    "            return (y/2)  + (1/2)*Z(x,y)\n",
    "        elif (x >= ((1 + 2*math.sqrt(y*(1-y))) / 2 )) :\n",
    "            return y\n",
    "    elif (y == 1/2) :\n",
    "        return x / 2\n",
    "    else :\n",
    "        return x - f_star(1-y, x)"
   ]
  },
  {
   "cell_type": "code",
   "execution_count": null,
   "id": "10ba5d72",
   "metadata": {},
   "outputs": [],
   "source": []
  }
 ],
 "metadata": {
  "kernelspec": {
   "display_name": "Python 3 (ipykernel)",
   "language": "python",
   "name": "python3"
  },
  "language_info": {
   "codemirror_mode": {
    "name": "ipython",
    "version": 3
   },
   "file_extension": ".py",
   "mimetype": "text/x-python",
   "name": "python",
   "nbconvert_exporter": "python",
   "pygments_lexer": "ipython3",
   "version": "3.9.12"
  }
 },
 "nbformat": 4,
 "nbformat_minor": 5
}
