{
 "cells": [
  {
   "cell_type": "code",
   "execution_count": 1,
   "id": "31505489",
   "metadata": {},
   "outputs": [],
   "source": [
    "import math\n",
    "import numpy as np\n",
    "import matplotlib.pyplot as plt"
   ]
  },
  {
   "cell_type": "code",
   "execution_count": 2,
   "id": "ac0ce1e8",
   "metadata": {},
   "outputs": [],
   "source": [
    "import diamond as Aztec # the (rather complicated) data structure"
   ]
  },
  {
   "cell_type": "code",
   "execution_count": 3,
   "id": "a57fcddb",
   "metadata": {},
   "outputs": [],
   "source": [
    "import tiling # this contains the algorithm(s) i.e. for tiling and the height function "
   ]
  },
  {
   "cell_type": "code",
   "execution_count": 4,
   "id": "e2aa7cd4",
   "metadata": {},
   "outputs": [],
   "source": [
    "def Z(x,y) :\n",
    "    return (2 / math.pi) * ( (x - 1/2) * math.atan( (math.sqrt(1/4 - (x-1/2)**2 - (y - 1/2)**2)) / (1/2 - y) )\n",
    "                           + (1/2)* math.atan( (2*(x - 1/2)*(1/2 - y)) / (math.sqrt(1/4 - (x - 1/2)**2 - (y - 1/2)**2)) ) \n",
    "                           - (1/2 - y)* math.atan( (x - 1/2) / math.sqrt(1/4 - (x - 1/2)**2 - (y - 1/2)**2 ) ) )"
   ]
  },
  {
   "cell_type": "code",
   "execution_count": 5,
   "id": "3738ef45",
   "metadata": {},
   "outputs": [],
   "source": [
    "def f_star(y, x) :\n",
    "    if (y >= 0 and y < 1 / 2) :\n",
    "        if(x >= 0 and x <= (1 - 2*math.sqrt(y*(1-y))) / 2) :\n",
    "            return 0\n",
    "        elif (x > ((1 - 2*math.sqrt(y*(1-y))) / 2 ) and x < ((1 + 2*math.sqrt(y*(1-y))) / 2 )) :\n",
    "            return ((y/2) + (1/2)*(Z(x,y)))\n",
    "        elif (x >= ((1 + 2*math.sqrt(y*(1-y))) / 2 )) :\n",
    "            return y\n",
    "    elif (y == 1/2) :\n",
    "        return x / 2\n",
    "    elif (y > 1/2 ) :\n",
    "        return x - f_star(1 - y, x)\n",
    "    \n",
    "def G(x,y) :\n",
    "    return ( x + y - 2*f_star(y,x) )"
   ]
  },
  {
   "cell_type": "code",
   "execution_count": 6,
   "id": "fc0132dd",
   "metadata": {},
   "outputs": [],
   "source": [
    "sizes = [10,20,40,80,100]\n",
    "sweeps = 100"
   ]
  },
  {
   "cell_type": "code",
   "execution_count": 7,
   "id": "04bb5c07",
   "metadata": {},
   "outputs": [
    {
     "ename": "KeyboardInterrupt",
     "evalue": "",
     "output_type": "error",
     "traceback": [
      "\u001b[0;31m---------------------------------------------------------------------------\u001b[0m",
      "\u001b[0;31mKeyboardInterrupt\u001b[0m                         Traceback (most recent call last)",
      "Input \u001b[0;32mIn [7]\u001b[0m, in \u001b[0;36m<cell line: 2>\u001b[0;34m()\u001b[0m\n\u001b[1;32m      5\u001b[0m tiling\u001b[38;5;241m.\u001b[39mweight_computation(grid) \u001b[38;5;66;03m# compute Uniform Weights for each tiling\u001b[39;00m\n\u001b[1;32m      6\u001b[0m \u001b[38;5;28;01mfor\u001b[39;00m _ \u001b[38;5;129;01min\u001b[39;00m \u001b[38;5;28mrange\u001b[39m(sweeps) :\n\u001b[0;32m----> 7\u001b[0m     M \u001b[38;5;241m=\u001b[39m \u001b[43mtiling\u001b[49m\u001b[38;5;241;43m.\u001b[39;49m\u001b[43mgenerate_matching\u001b[49m\u001b[43m(\u001b[49m\u001b[43mgrid\u001b[49m\u001b[43m)\u001b[49m;  \u001b[38;5;66;03m# generate a uniform tiling T\u001b[39;00m\n\u001b[1;32m      8\u001b[0m     h \u001b[38;5;241m=\u001b[39m grid\u001b[38;5;241m.\u001b[39mheight_function(M)          \u001b[38;5;66;03m# compute the associated height function to T i.e. \\eta_{T}\u001b[39;00m\n\u001b[1;32m     10\u001b[0m     \u001b[38;5;28;01mdef\u001b[39;00m \u001b[38;5;21mR\u001b[39m(u, v) : \n",
      "File \u001b[0;32m~/aztec-diamond-tiling/tiling.py:76\u001b[0m, in \u001b[0;36mgenerate_matching\u001b[0;34m(grid)\u001b[0m\n\u001b[1;32m     74\u001b[0m  \u001b[38;5;66;03m# Case 2\u001b[39;00m\n\u001b[1;32m     75\u001b[0m \u001b[38;5;28;01melif\u001b[39;00m ((\u001b[38;5;28mfrozenset\u001b[39m(alpha\u001b[38;5;241m.\u001b[39me) \u001b[38;5;129;01min\u001b[39;00m M) \u001b[38;5;129;01mand\u001b[39;00m (\u001b[38;5;28mfrozenset\u001b[39m(gamma\u001b[38;5;241m.\u001b[39me) \u001b[38;5;129;01min\u001b[39;00m M ) ) : \u001b[38;5;66;03m# or ((frozenset(beta.e) in M) or (frozenset(delta.e) in M)) ):\u001b[39;00m\n\u001b[0;32m---> 76\u001b[0m     \u001b[38;5;28;01mdel\u001b[39;00m M[\u001b[38;5;28;43mfrozenset\u001b[39;49m(alpha\u001b[38;5;241m.\u001b[39me)]\n\u001b[1;32m     77\u001b[0m     \u001b[38;5;28;01mdel\u001b[39;00m M[\u001b[38;5;28mfrozenset\u001b[39m(gamma\u001b[38;5;241m.\u001b[39me)]\n\u001b[1;32m     78\u001b[0m \u001b[38;5;28;01melif\u001b[39;00m ((\u001b[38;5;28mfrozenset\u001b[39m(beta\u001b[38;5;241m.\u001b[39me) \u001b[38;5;129;01min\u001b[39;00m M) \u001b[38;5;129;01mand\u001b[39;00m (\u001b[38;5;28mfrozenset\u001b[39m(delta\u001b[38;5;241m.\u001b[39me) \u001b[38;5;129;01min\u001b[39;00m M ) ) :\n",
      "\u001b[0;31mKeyboardInterrupt\u001b[0m: "
     ]
    }
   ],
   "source": [
    "convergence_data = dict()\n",
    "for size in sizes :\n",
    "    convergence_values = []\n",
    "    grid = Aztec.Diamond(size)\n",
    "    tiling.weight_computation(grid) # compute Uniform Weights for each tiling\n",
    "    for _ in range(sweeps) :\n",
    "        M = tiling.generate_matching(grid);  # generate a uniform tiling T\n",
    "        h = grid.height_function(M)          # compute the associated height function to T i.e. \\eta_{T}\n",
    "        \n",
    "        def R(u, v) : \n",
    "            assert (abs(u) + abs(v) <= 1)\n",
    "            return 2*G( (u - v + 1) / 2, (u + v + 1) / 2 )\n",
    "        term = max([ ( (1/size)*h[(i,j)] - R( i / (size + 1), j / (size + 1) ) ) for (i,j) in list(h.keys())])\n",
    "        convergence_values.append(term)\n",
    "    convergence_data[size] = convergence_values"
   ]
  },
  {
   "cell_type": "code",
   "execution_count": null,
   "id": "8e640607",
   "metadata": {},
   "outputs": [],
   "source": [
    "convergence_data"
   ]
  },
  {
   "cell_type": "code",
   "execution_count": null,
   "id": "3347b084",
   "metadata": {},
   "outputs": [],
   "source": [
    "def batch_estimate(data,observable,k):\n",
    "    '''Divide data into k batches and apply the function observable to each.\n",
    "    Returns the mean and standard error.'''\n",
    "    batches = np.reshape(data,(k,-1))\n",
    "    values = np.apply_along_axis(observable, 1, batches)\n",
    "    return np.mean(values), np.std(values)/np.sqrt(k-1)"
   ]
  },
  {
   "cell_type": "code",
   "execution_count": null,
   "id": "d6ce1070",
   "metadata": {},
   "outputs": [],
   "source": [
    "mean_profiles = []\n",
    "for size in sizes :\n",
    "    mean_profiles.append(batch_estimate(convergence_data[size],np.mean,20))"
   ]
  },
  {
   "cell_type": "code",
   "execution_count": null,
   "id": "6b991053",
   "metadata": {},
   "outputs": [],
   "source": [
    "Y, err = list(zip(*mean_profiles))\n",
    "err = 10 * np.array(err) # Error is too small\n",
    "plt.plot(sizes, Y)\n",
    "plt.errorbar(sizes, y, yerr = err, fmt ='o')\n",
    "#plt.legend(sizes,title=\"N\")\n",
    "plt.xlabel(\"N\")\n",
    "plt.ylabel(r\"$\\delta$\")"
   ]
  },
  {
   "cell_type": "code",
   "execution_count": null,
   "id": "188caab4",
   "metadata": {},
   "outputs": [],
   "source": [
    "x = np.linspace(-1, 1, 10001)\n",
    "y = np.linspace(-1, 1, 10001)\n",
    "# full coordinate arrays\n",
    "xx, yy = np.meshgrid(x, y)\n",
    "\n",
    "@np.vectorize\n",
    "def R(u, v) : \n",
    "    if abs(u) + abs(v) <= 1 :\n",
    "        return 2*G( (u - v + 1) / 2, (u + v + 1) / 2 )\n",
    "    else :\n",
    "        return 0\n",
    "    \n",
    "zz = R(xx/n,yy/n)"
   ]
  },
  {
   "cell_type": "code",
   "execution_count": 35,
   "id": "15cf4639",
   "metadata": {},
   "outputs": [
    {
     "data": {
      "text/plain": [
       "array([[1.        , 1.00002561, 1.00005117, ..., 1.00005117, 1.00002561,\n",
       "        1.        ],\n",
       "       [0.99997439, 1.        , 1.00002556, ..., 1.00002556, 1.        ,\n",
       "        0.99997439],\n",
       "       [0.99994883, 0.99997444, 1.        , ..., 1.        , 0.99997444,\n",
       "        0.99994883],\n",
       "       ...,\n",
       "       [0.99994883, 0.99997444, 1.        , ..., 1.        , 0.99997444,\n",
       "        0.99994883],\n",
       "       [0.99997439, 1.        , 1.00002556, ..., 1.00002556, 1.        ,\n",
       "        0.99997439],\n",
       "       [1.        , 1.00002561, 1.00005117, ..., 1.00005117, 1.00002561,\n",
       "        1.        ]])"
      ]
     },
     "execution_count": 35,
     "metadata": {},
     "output_type": "execute_result"
    }
   ],
   "source": [
    "zz"
   ]
  },
  {
   "cell_type": "code",
   "execution_count": 36,
   "id": "b26377c4",
   "metadata": {},
   "outputs": [
    {
     "data": {
      "image/png": "[encoded data removed]",
      "text/plain": [
       "<Figure size 432x288 with 2 Axes>"
      ]
     },
     "metadata": {
      "needs_background": "light"
     },
     "output_type": "display_data"
    }
   ],
   "source": [
    "h = plt.contourf(x, y, zz)\n",
    "plt.colorbar()\n",
    "plt.show()"
   ]
  },
  {
   "cell_type": "code",
   "execution_count": null,
   "id": "7c493240",
   "metadata": {},
   "outputs": [],
   "source": []
  }
 ],
 "metadata": {
  "kernelspec": {
   "display_name": "Python 3 (ipykernel)",
   "language": "python",
   "name": "python3"
  },
  "language_info": {
   "codemirror_mode": {
    "name": "ipython",
    "version": 3
   },
   "file_extension": ".py",
   "mimetype": "text/x-python",
   "name": "python",
   "nbconvert_exporter": "python",
   "pygments_lexer": "ipython3",
   "version": "3.9.12"
  }
 },
 "nbformat": 4,
 "nbformat_minor": 5
}
