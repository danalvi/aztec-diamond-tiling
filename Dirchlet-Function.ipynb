{
 "cells": [
  {
   "cell_type": "code",
   "execution_count": 10,
   "id": "ce7d50d4",
   "metadata": {},
   "outputs": [],
   "source": [
    "import math\n",
    "import numpy as np\n",
    "from itertools import product"
   ]
  },
  {
   "cell_type": "code",
   "execution_count": 11,
   "id": "fd493205",
   "metadata": {},
   "outputs": [],
   "source": [
    "def G(x,y,L) :\n",
    "    def e_(n, t) :\n",
    "        return 2 * np.prod([math.sin(math.pi * n[i] * t[i] ) for i in [0,1]])\n",
    "\n",
    "    def lambda_(n, L) :\n",
    "        return -2 * np.sum([(math.sin( (math.pi * n[i]) / (2 * L) ))**2 for i in [0, 1]] )\n",
    "    \n",
    "    return - np.sum([(((lambda_(n, L))**(-1))*e_(n, x)*e_(n,y)) for n in product(range(1,L), range(1,L))])"
   ]
  },
  {
   "cell_type": "code",
   "execution_count": 12,
   "id": "d9eae1c6",
   "metadata": {},
   "outputs": [],
   "source": [
    "import tiling\n",
    "import diamond as Aztec"
   ]
  },
  {
   "cell_type": "code",
   "execution_count": 13,
   "id": "aa73ec7e",
   "metadata": {},
   "outputs": [
    {
     "ename": "AttributeError",
     "evalue": "Can't pickle local object 'Diamond.__face.<locals>.__face'",
     "output_type": "error",
     "traceback": [
      "\u001b[0;31m---------------------------------------------------------------------------\u001b[0m",
      "\u001b[0;31mAttributeError\u001b[0m                            Traceback (most recent call last)",
      "Input \u001b[0;32mIn [13]\u001b[0m, in \u001b[0;36m<cell line: 6>\u001b[0;34m()\u001b[0m\n\u001b[1;32m      3\u001b[0m exampleObj \u001b[38;5;241m=\u001b[39m Aztec\u001b[38;5;241m.\u001b[39mDiamond(\u001b[38;5;241m5\u001b[39m)\n\u001b[1;32m      5\u001b[0m fileObj \u001b[38;5;241m=\u001b[39m \u001b[38;5;28mopen\u001b[39m(\u001b[38;5;124m'\u001b[39m\u001b[38;5;124mdata.obj\u001b[39m\u001b[38;5;124m'\u001b[39m, \u001b[38;5;124m'\u001b[39m\u001b[38;5;124mwb\u001b[39m\u001b[38;5;124m'\u001b[39m)\n\u001b[0;32m----> 6\u001b[0m \u001b[43mpickle\u001b[49m\u001b[38;5;241;43m.\u001b[39;49m\u001b[43mdump\u001b[49m\u001b[43m(\u001b[49m\u001b[43mexampleObj\u001b[49m\u001b[43m,\u001b[49m\u001b[43mfileObj\u001b[49m\u001b[43m)\u001b[49m\n\u001b[1;32m      7\u001b[0m fileObj\u001b[38;5;241m.\u001b[39mclose()\n",
      "\u001b[0;31mAttributeError\u001b[0m: Can't pickle local object 'Diamond.__face.<locals>.__face'"
     ]
    }
   ],
   "source": [
    "import pickle\n",
    "\n",
    "exampleObj = Aztec.Diamond(5)\n",
    "\n",
    "fileObj = open('data.obj', 'wb')\n",
    "pickle.dump(exampleObj,fileObj)\n",
    "fileObj.close()"
   ]
  },
  {
   "cell_type": "code",
   "execution_count": 14,
   "id": "b44b2f18",
   "metadata": {},
   "outputs": [
    {
     "ename": "EOFError",
     "evalue": "Ran out of input",
     "output_type": "error",
     "traceback": [
      "\u001b[0;31m---------------------------------------------------------------------------\u001b[0m",
      "\u001b[0;31mEOFError\u001b[0m                                  Traceback (most recent call last)",
      "Input \u001b[0;32mIn [14]\u001b[0m, in \u001b[0;36m<cell line: 2>\u001b[0;34m()\u001b[0m\n\u001b[1;32m      1\u001b[0m fileObj \u001b[38;5;241m=\u001b[39m \u001b[38;5;28mopen\u001b[39m(\u001b[38;5;124m'\u001b[39m\u001b[38;5;124mdata.obj\u001b[39m\u001b[38;5;124m'\u001b[39m, \u001b[38;5;124m'\u001b[39m\u001b[38;5;124mrb\u001b[39m\u001b[38;5;124m'\u001b[39m)\n\u001b[0;32m----> 2\u001b[0m exampleObj \u001b[38;5;241m=\u001b[39m \u001b[43mpickle\u001b[49m\u001b[38;5;241;43m.\u001b[39;49m\u001b[43mload\u001b[49m\u001b[43m(\u001b[49m\u001b[43mfileObj\u001b[49m\u001b[43m)\u001b[49m\n\u001b[1;32m      3\u001b[0m fileObj\u001b[38;5;241m.\u001b[39mclose()\n\u001b[1;32m      4\u001b[0m \u001b[38;5;28mprint\u001b[39m(exampleObj)\n",
      "\u001b[0;31mEOFError\u001b[0m: Ran out of input"
     ]
    }
   ],
   "source": [
    "fileObj = open('data.obj', 'rb')\n",
    "exampleObj = pickle.load(fileObj)\n",
    "fileObj.close()\n",
    "print(exampleObj)"
   ]
  },
  {
   "cell_type": "code",
   "execution_count": 24,
   "id": "71c3e5a7",
   "metadata": {},
   "outputs": [],
   "source": [
    "sizes = [20]\n",
    "samples = 1000"
   ]
  },
  {
   "cell_type": "code",
   "execution_count": 25,
   "id": "904389a6",
   "metadata": {},
   "outputs": [],
   "source": [
    "height_functions = dict()\n",
    "\n",
    "for size in sizes :\n",
    "    heights_of_size = []\n",
    "    grid = Aztec.Diamond(size)\n",
    "    tiling.weight_computation(grid)\n",
    "    for _ in range(samples) :\n",
    "        M, _ = tiling.generate_matching(grid, energy=False)\n",
    "        height_function = grid.height_function(M)\n",
    "        heights_of_size.append(height_function)\n",
    "    height_functions[size] = heights_of_size"
   ]
  },
  {
   "cell_type": "code",
   "execution_count": 31,
   "id": "70ebeed1",
   "metadata": {},
   "outputs": [],
   "source": [
    "height_functions_size_20 = height_functions[20]\n",
    "\n",
    "heights_fixed_x = [height_functions_size_20[i][(2,2)] for i in range(1000)]"
   ]
  },
  {
   "cell_type": "code",
   "execution_count": 74,
   "id": "f9ccae34",
   "metadata": {},
   "outputs": [],
   "source": [
    "import matplotlib.pyplot as plt\n",
    "\n",
    "A = 6*np.ones((40,40))\n",
    "for i in range(-20,20) :\n",
    "    for j in range(-20,20) :\n",
    "        if abs(i) + abs(j) <= 20 :\n",
    "            heights_fixed_x = [height_functions_size_20[k][(i,j)] for k in range(1000)]\n",
    "            A[i+20,j+20] = np.var(heights_fixed_x)"
   ]
  },
  {
   "cell_type": "code",
   "execution_count": 75,
   "id": "9bb4b6c1",
   "metadata": {},
   "outputs": [
    {
     "data": {
      "image/png": "[encoded data removed]",
      "text/plain": [
       "<Figure size 432x288 with 2 Axes>"
      ]
     },
     "metadata": {
      "needs_background": "light"
     },
     "output_type": "display_data"
    }
   ],
   "source": [
    "plt.imshow(A, cmap='hot', interpolation='nearest')\n",
    "plt.colorbar()\n",
    "plt.show()"
   ]
  },
  {
   "cell_type": "code",
   "execution_count": 48,
   "id": "9c85b164",
   "metadata": {
    "scrolled": true
   },
   "outputs": [
    {
     "ename": "TypeError",
     "evalue": "can't multiply sequence by non-int of type 'float'",
     "output_type": "error",
     "traceback": [
      "\u001b[0;31m---------------------------------------------------------------------------\u001b[0m",
      "\u001b[0;31mTypeError\u001b[0m                                 Traceback (most recent call last)",
      "Input \u001b[0;32mIn [48]\u001b[0m, in \u001b[0;36m<cell line: 4>\u001b[0;34m()\u001b[0m\n\u001b[1;32m      3\u001b[0m A \u001b[38;5;241m=\u001b[39m np\u001b[38;5;241m.\u001b[39mzeros((\u001b[38;5;241m40\u001b[39m,\u001b[38;5;241m40\u001b[39m))\n\u001b[1;32m      4\u001b[0m \u001b[38;5;28;01mfor\u001b[39;00m (i,j) \u001b[38;5;129;01min\u001b[39;00m product(\u001b[38;5;28mrange\u001b[39m(\u001b[38;5;241m1\u001b[39m,\u001b[38;5;241m40\u001b[39m), \u001b[38;5;28mrange\u001b[39m(\u001b[38;5;241m1\u001b[39m,\u001b[38;5;241m40\u001b[39m)) :\n\u001b[0;32m----> 5\u001b[0m     A[i,j] \u001b[38;5;241m=\u001b[39m G(\u001b[43m(\u001b[49m\u001b[38;5;241;43m1\u001b[39;49m\u001b[38;5;241;43m/\u001b[39;49m\u001b[38;5;241;43m40\u001b[39;49m\u001b[43m)\u001b[49m\u001b[38;5;241;43m*\u001b[39;49m\u001b[43m(\u001b[49m\u001b[43mi\u001b[49m\u001b[43m,\u001b[49m\u001b[43mj\u001b[49m\u001b[43m)\u001b[49m,(\u001b[38;5;241m1\u001b[39m\u001b[38;5;241m/\u001b[39m\u001b[38;5;241m40\u001b[39m)\u001b[38;5;241m*\u001b[39m(i,j), \u001b[38;5;241m20\u001b[39m)\n",
      "\u001b[0;31mTypeError\u001b[0m: can't multiply sequence by non-int of type 'float'"
     ]
    }
   ],
   "source": [
    "import matplotlib.pyplot as plt\n",
    "\n",
    "A = np.zeros((40,40))\n",
    "for (i,j) in product(range(1,40), range(1,40)) :\n",
    "    A[i,j] = G((1/40)*(i,j),(1/40)*(i,j), 20)"
   ]
  },
  {
   "cell_type": "code",
   "execution_count": 47,
   "id": "279d6d09",
   "metadata": {},
   "outputs": [
    {
     "data": {
      "image/png": "[encoded data removed]",
      "text/plain": [
       "<Figure size 432x288 with 1 Axes>"
      ]
     },
     "metadata": {
      "needs_background": "light"
     },
     "output_type": "display_data"
    }
   ],
   "source": [
    "plt.imshow(A, cmap='hot', interpolation='nearest')\n",
    "plt.show()"
   ]
  },
  {
   "cell_type": "code",
   "execution_count": null,
   "id": "91fad983",
   "metadata": {},
   "outputs": [],
   "source": []
  }
 ],
 "metadata": {
  "kernelspec": {
   "display_name": "Python 3 (ipykernel)",
   "language": "python",
   "name": "python3"
  },
  "language_info": {
   "codemirror_mode": {
    "name": "ipython",
    "version": 3
   },
   "file_extension": ".py",
   "mimetype": "text/x-python",
   "name": "python",
   "nbconvert_exporter": "python",
   "pygments_lexer": "ipython3",
   "version": "3.9.12"
  }
 },
 "nbformat": 4,
 "nbformat_minor": 5
}
