{
 "cells": [
  {
   "cell_type": "code",
   "execution_count": 2,
   "id": "31505489",
   "metadata": {},
   "outputs": [],
   "source": [
    "import math\n",
    "import pickle\n",
    "import numpy as np\n",
    "import matplotlib.pyplot as plt"
   ]
  },
  {
   "cell_type": "code",
   "execution_count": 4,
   "id": "ac0ce1e8",
   "metadata": {},
   "outputs": [],
   "source": [
    "import diamond as Aztec # the (rather complicated) data structure"
   ]
  },
  {
   "cell_type": "code",
   "execution_count": 5,
   "id": "a57fcddb",
   "metadata": {},
   "outputs": [],
   "source": [
    "import tiling # this contains the algorithm(s) i.e. for tiling and the height function "
   ]
  },
  {
   "cell_type": "code",
   "execution_count": 6,
   "id": "e2aa7cd4",
   "metadata": {},
   "outputs": [],
   "source": [
    "def Z(x,y) :\n",
    "    return (2 / math.pi) * ( (x - 1/2) * math.atan( (math.sqrt(1/4 - (x-1/2)**2 - (y - 1/2)**2)) / (1/2 - y) )\n",
    "                           + (1/2)* math.atan( (2*(x - 1/2)*(1/2 - y)) / (math.sqrt(1/4 - (x - 1/2)**2 - (y - 1/2)**2)) ) \n",
    "                           - (1/2 - y)* math.atan( (x - 1/2) / math.sqrt(1/4 - (x - 1/2)**2 - (y - 1/2)**2 ) ) )"
   ]
  },
  {
   "cell_type": "code",
   "execution_count": 7,
   "id": "3738ef45",
   "metadata": {},
   "outputs": [],
   "source": [
    "def f_star(y, x) :\n",
    "    if (y >= 0 and y < 1 / 2) :\n",
    "        if(x >= 0 and x <= (1 - 2*math.sqrt(y*(1-y))) / 2) :\n",
    "            return 0\n",
    "        elif (x > ((1 - 2*math.sqrt(y*(1-y))) / 2 ) and x < ((1 + 2*math.sqrt(y*(1-y))) / 2 )) :\n",
    "            return ((y/2) + (1/2)*(Z(x,y)))\n",
    "        elif (x >= ((1 + 2*math.sqrt(y*(1-y))) / 2 )) and (x <= 1) :\n",
    "            return y\n",
    "    elif (y == 1/2) :\n",
    "        return x / 2\n",
    "    elif (y > 1/2 ) :\n",
    "        return x - f_star(1 - y, x)\n",
    "    \n",
    "def G(x,y) :\n",
    "    return ( x + y - 2*f_star(y,x) )\n",
    "\n",
    "@np.vectorize\n",
    "def R(u, v) : \n",
    "    if abs(u) + abs(v) <= 1 :\n",
    "        return 2*G( (u - v + 1) / 2, (u + v + 1) / 2 )\n",
    "    else :\n",
    "        return 0"
   ]
  },
  {
   "cell_type": "code",
   "execution_count": 12,
   "id": "fc0132dd",
   "metadata": {},
   "outputs": [],
   "source": [
    "sizes = [10,20,40,60,80,100,120]\n",
    "sweeps = 100"
   ]
  },
  {
   "cell_type": "code",
   "execution_count": 10,
   "id": "04bb5c07",
   "metadata": {},
   "outputs": [],
   "source": [
    "# convergence_data = dict()\n",
    "# for size in sizes :\n",
    "#     convergence_values = []\n",
    "#     grid = Aztec.Diamond(size)\n",
    "#     tiling.weight_computation(grid) # compute Uniform Weights for each tiling\n",
    "#     for _ in range(sweeps) :\n",
    "#         M, _ = tiling.generate_matching(grid, energy=False);  # generate a uniform tiling T\n",
    "#         h = grid.height_function(M)          # compute the associated height function to T i.e. \\eta_{T}\n",
    "        \n",
    "#         def R(u, v) : \n",
    "#             assert (abs(u) + abs(v) <= 1)\n",
    "#             return 2*G( (u - v + 1) / 2, (u + v + 1) / 2 )\n",
    "#         term = max([ ( (1/size)*h[(i,j)] - R( i / (size + 1), j / (size + 1) ) ) for (i,j) in list(h.keys())])\n",
    "#         convergence_values.append(term)\n",
    "#     convergence_data[size] = convergence_values"
   ]
  },
  {
   "cell_type": "code",
   "execution_count": 8,
   "id": "4bfb3e4a",
   "metadata": {},
   "outputs": [],
   "source": [
    "# exampleObj = convergence_data\n",
    "\n",
    "# fileObj = open('convergence_romik.obj', 'wb')\n",
    "# pickle.dump(exampleObj,fileObj)\n",
    "# fileObj.close()"
   ]
  },
  {
   "cell_type": "code",
   "execution_count": 9,
   "id": "4cabc729",
   "metadata": {},
   "outputs": [],
   "source": [
    "fileObj = open('convergence_romik.obj', 'rb')\n",
    "convergence_data = pickle.load(fileObj)\n",
    "fileObj.close()"
   ]
  },
  {
   "cell_type": "code",
   "execution_count": 25,
   "id": "3347b084",
   "metadata": {},
   "outputs": [],
   "source": [
    "def batch_estimate(data,observable,k):\n",
    "    '''Divide data into k batches and apply the function observable to each.\n",
    "    Returns the mean and standard error.'''\n",
    "    batches = np.reshape(data,(k,-1))\n",
    "    values = np.apply_along_axis(observable, 1, batches)\n",
    "    return np.mean(values), np.std(values)/np.sqrt(k-1)"
   ]
  },
  {
   "cell_type": "code",
   "execution_count": 26,
   "id": "d6ce1070",
   "metadata": {},
   "outputs": [],
   "source": [
    "mean_profiles = []\n",
    "for size in sizes :\n",
    "    mean_profiles.append(batch_estimate(convergence_data[size],np.mean,20))"
   ]
  },
  {
   "cell_type": "code",
   "execution_count": 57,
   "id": "6b991053",
   "metadata": {},
   "outputs": [
    {
     "data": {
      "text/plain": [
       "Text(0.5, 0, '$N$')"
      ]
     },
     "execution_count": 57,
     "metadata": {},
     "output_type": "execute_result"
    },
    {
     "data": {
      "image/png": "[encoded data removed]",
      "text/plain": [
       "<Figure size 1152x432 with 1 Axes>"
      ]
     },
     "metadata": {
      "needs_background": "light"
     },
     "output_type": "display_data"
    }
   ],
   "source": [
    "from scipy.optimize import curve_fit\n",
    "\n",
    "Y, err = list(zip(*mean_profiles))\n",
    "err = 10 * np.array(err) # Error is too small\n",
    "\n",
    "def func_powerlaw(x, m, c, c0):\n",
    "    return c0 + x**m * c\n",
    "\n",
    "popt, pcov = curve_fit(func_powerlaw, sizes, Y, maxfev=2000 )\n",
    "\n",
    "plt.subplots(figsize=(16,6))\n",
    "plt.plot(sizes, Y, label=r\"$\\delta$\")\n",
    "plt.plot(sizes, func_powerlaw(sizes, *popt), '--', label=\"Fitted Plot\")\n",
    "plt.errorbar(sizes, Y, yerr = err, label=\"Error scalled by 10\")\n",
    "plt.legend()\n",
    "plt.xlabel(r\"$N$\")"
   ]
  },
  {
   "cell_type": "code",
   "execution_count": 50,
   "id": "426acf1f",
   "metadata": {},
   "outputs": [
    {
     "data": {
      "text/plain": [
       "array([ 1.49469610e-04, -1.02653818e+03,  1.02731256e+03])"
      ]
     },
     "execution_count": 50,
     "metadata": {},
     "output_type": "execute_result"
    }
   ],
   "source": [
    "popt"
   ]
  },
  {
   "cell_type": "code",
   "execution_count": 66,
   "id": "b26377c4",
   "metadata": {},
   "outputs": [
    {
     "data": {
      "text/plain": [
       "<matplotlib.colorbar.Colorbar at 0x149f4f78ed90>"
      ]
     },
     "execution_count": 66,
     "metadata": {},
     "output_type": "execute_result"
    },
    {
     "data": {
      "image/png": "[encoded data removed]",
      "text/plain": [
       "<Figure size 432x288 with 2 Axes>"
      ]
     },
     "metadata": {
      "needs_background": "light"
     },
     "output_type": "display_data"
    }
   ],
   "source": [
    "n = 20\n",
    "\n",
    "A = np.zeros((2*n+1,2*n+1))\n",
    "\n",
    "for i in range(-n,n+1) :\n",
    "    for j in range(-n,n+1) :\n",
    "        A[(i+n,j+n)] = R(i/(n + 1), j/(n + 1))\n",
    "        \n",
    "plt.imshow(A, interpolation='nearest')\n",
    "plt.colorbar()"
   ]
  }
 ],
 "metadata": {
  "kernelspec": {
   "display_name": "Python 3 (ipykernel)",
   "language": "python",
   "name": "python3"
  },
  "language_info": {
   "codemirror_mode": {
    "name": "ipython",
    "version": 3
   },
   "file_extension": ".py",
   "mimetype": "text/x-python",
   "name": "python",
   "nbconvert_exporter": "python",
   "pygments_lexer": "ipython3",
   "version": "3.9.12"
  }
 },
 "nbformat": 4,
 "nbformat_minor": 5
}
