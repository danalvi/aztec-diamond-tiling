{
 "cells": [
  {
   "cell_type": "code",
   "execution_count": 1,
   "id": "5dd032b5",
   "metadata": {},
   "outputs": [],
   "source": [
    "import math\n",
    "import numpy as np\n",
    "import Danish as Aztec"
   ]
  },
  {
   "cell_type": "code",
   "execution_count": 2,
   "id": "7b8d261c",
   "metadata": {},
   "outputs": [],
   "source": [
    "def e_(face, edge) : # e'\n",
    "    edges = face.edges\n",
    "    i = edges.index(edge)\n",
    "    return edges[(i + 2) % 4]"
   ]
  },
  {
   "cell_type": "code",
   "execution_count": 36,
   "id": "265453d8",
   "metadata": {},
   "outputs": [],
   "source": [
    "def weight_computation(grid) :\n",
    "    n = grid.n\n",
    "    for k in range(1, n + 1) :\n",
    "        #Ak = grid.get_Am(k)\n",
    "        for face in list(grid.faces.values()):\n",
    "            (i, j) = face.bottom_left\n",
    "            if (i + j - k) % 2 == 0 :\n",
    "                #print(str(i) + ' ' + str(j) + ' ' + str(k))\n",
    "                e1 = face.edges[0]      # Edges are in anticlockwise order so two consecutive edges are adjacent\n",
    "                e2 = face.edges[1]\n",
    "\n",
    "\n",
    "                alpha = e_(face, e1).w[-1]\n",
    "                gamma = e1.w[-1]\n",
    "                beta = e2.w[-1]\n",
    "                delta = e_(face, e2).w[-1]\n",
    "\n",
    "                DP = alpha*gamma + beta*gamma\n",
    "                \n",
    "                if (DP != 0) :\n",
    "                    e_(face, e1).w.append(gamma / DP)\n",
    "                    e1.w.append(alpha / DP)\n",
    "                    e2.w.append(delta / DP)\n",
    "                    e_(face, e2).w.append(beta / DP)\n",
    "                elif alpha + beta != 0 :\n",
    "                    e1.w.append(alpha)\n",
    "                    e_(face, e1).w.append(1 / (alpha + beta))\n",
    "                    e2.w.append(1 / (alpha + beta))\n",
    "                    e_(face, e1).w.append(beta)\n",
    "                elif delta + gamma != 0 :\n",
    "                    e1.w.append(1 / (delta + gamma))\n",
    "                    e_(face, e1).w.append(gamma)\n",
    "                    e2.w.append(delta)\n",
    "                    e_(face, e2).w.append(1 / (delta + gamma))\n",
    "                    \n",
    "\n",
    "                face.DP.append(DP)"
   ]
  },
  {
   "cell_type": "code",
   "execution_count": 59,
   "id": "3f265506",
   "metadata": {},
   "outputs": [],
   "source": [
    "\n",
    "def generate_matching(grid) :\n",
    "    n = grid.n\n",
    "    rng = np.random.default_rng(seed=42)\n",
    "    M = dict()\n",
    "    for k in range(1, n + 1) :\n",
    "        Am = grid.get_Am(k)     #   Get A_k's face\n",
    "        for face in Am :\n",
    "             (i, j) = face.bottom_left\n",
    "             if (i + j - k) % 2 == 0 :\n",
    "                 # Case 3\n",
    "                alpha = face.edges[2]\n",
    "                gamma = face.edges[0]\n",
    "                beta  = face.edges[1]\n",
    "                delta = face.edges[3]\n",
    "\n",
    "                #print(str(i) + ' ' + str(j) + ' ' + str(k))\n",
    "\n",
    "                #DP = alpha.w[k-1]*gamma.w[k-1] + beta.w[k-1]*delta.w[k-1]\n",
    "\n",
    "                if not ( (frozenset(alpha.e) in M) or (frozenset(beta.e) in M) or (frozenset(delta.e) in M) or (frozenset(gamma.e) in M) ) :\n",
    "                     if rng.random() < alpha.w[k-1]*gamma.w[k-1] / face.DP[-1] :\n",
    "                         M[frozenset(gamma.e)] = gamma\n",
    "                         M[frozenset(alpha.e)] = alpha\n",
    "                     else :\n",
    "                         M[frozenset(delta.e)] = delta\n",
    "                         M[frozenset(beta.e)] = beta\n",
    "                 # Case 2\n",
    "                elif ((frozenset(alpha.e) in M) and (frozenset(gamma.e) in M ) ) : # or ((frozenset(beta.e) in M) or (frozenset(delta.e) in M)) ):\n",
    "                    del M[frozenset(alpha.e)]\n",
    "                    del M[frozenset(gamma.e)]\n",
    "                elif ((frozenset(beta.e) in M) and (frozenset(delta.e) in M ) ) :\n",
    "                    del M[frozenset(beta.e)]\n",
    "                    del M[frozenset(delta.e)]\n",
    "                 # Case 3\n",
    "                elif (frozenset(alpha.e) in M) :\n",
    "                    del M[frozenset(alpha.e)]\n",
    "                    M[frozenset(gamma.e)] = gamma\n",
    "                elif (frozenset(gamma.e) in M) :\n",
    "                    del M[frozenset(gamma.e)]\n",
    "                    M[frozenset(alpha.e)] = alpha\n",
    "                elif (frozenset(beta.e) in M) :\n",
    "                    del M[frozenset(beta.e)]\n",
    "                    M[frozenset(delta.e)] = delta\n",
    "                elif (frozenset(delta.e) in M) :\n",
    "                    del M[frozenset(delta.e)]\n",
    "                    M[frozenset(beta.e)] = beta\n",
    "    return M.values()"
   ]
  },
  {
   "cell_type": "code",
   "execution_count": 66,
   "id": "33b89401",
   "metadata": {},
   "outputs": [],
   "source": [
    "grid = Aztec.Diamond(50)\n",
    "weight_computation(grid)"
   ]
  },
  {
   "cell_type": "code",
   "execution_count": 67,
   "id": "84ae9916",
   "metadata": {},
   "outputs": [
    {
     "data": {
      "image/png": "[encoded data removed]",
      "text/plain": [
       "<Figure size 504x504 with 1 Axes>"
      ]
     },
     "metadata": {
      "needs_background": "light"
     },
     "output_type": "display_data"
    }
   ],
   "source": [
    "M = generate_matching(grid)\n",
    "matching = [tuple(edge.e) for edge in M]\n",
    "grid.plot_board(dotsVisible = False, M = matching)"
   ]
  }
 ],
 "metadata": {
  "kernelspec": {
   "display_name": "Python 3 (ipykernel)",
   "language": "python",
   "name": "python3"
  },
  "language_info": {
   "codemirror_mode": {
    "name": "ipython",
    "version": 3
   },
   "file_extension": ".py",
   "mimetype": "text/x-python",
   "name": "python",
   "nbconvert_exporter": "python",
   "pygments_lexer": "ipython3",
   "version": "3.9.12"
  }
 },
 "nbformat": 4,
 "nbformat_minor": 5
}
