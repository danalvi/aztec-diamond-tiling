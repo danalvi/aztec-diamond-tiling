{
 "cells": [
  {
   "cell_type": "code",
   "execution_count": 1,
   "id": "fe37d727",
   "metadata": {},
   "outputs": [],
   "source": [
    "import tiling\n",
    "import diamond as Aztec\n",
    "import numpy as np\n",
    "from numpy import linalg as LA\n",
    "from scipy.sparse.linalg import eigs"
   ]
  },
  {
   "cell_type": "code",
   "execution_count": 48,
   "id": "db9213e4",
   "metadata": {},
   "outputs": [],
   "source": [
    "n = 30\n",
    "\n",
    "grid = Aztec.Diamond(n)"
   ]
  },
  {
   "cell_type": "code",
   "execution_count": 49,
   "id": "6b769949",
   "metadata": {},
   "outputs": [],
   "source": [
    "V = dict()\n",
    "\n",
    "for item in enumerate(grid.V) :\n",
    "    V[item[1]] = item[0]"
   ]
  },
  {
   "cell_type": "code",
   "execution_count": 50,
   "id": "2754d78a",
   "metadata": {},
   "outputs": [],
   "source": [
    "# Adjacency Matrix\n",
    "\n",
    "A = np.zeros((len(grid.V), len(grid.V)))\n",
    "\n",
    "for e in grid.E.keys() :\n",
    "    (u1,v1), (u2,v2) = e\n",
    "    A[ ( V[(u1,v1)], V[(u2,v2)]) ] = 1\n",
    "    A[ ( V[(u2,v2)], V[(u1,v1)]) ] = 1"
   ]
  },
  {
   "cell_type": "code",
   "execution_count": 51,
   "id": "2c3bd2f0",
   "metadata": {},
   "outputs": [],
   "source": [
    "# Degree Matrix \n",
    "\n",
    "D = np.zeros((len(grid.V), len(grid.V)))\n",
    "\n",
    "for e in grid.E.keys() :\n",
    "    (u1,v1), (v2,u2) = e\n",
    "    D[ ( V[(u1,v1)], V[(u1,v1)] ) ] += 1\n",
    "    D[ ( V[(u2,v2)], V[(u2,v2)] ) ] += 1"
   ]
  },
  {
   "cell_type": "code",
   "execution_count": 52,
   "id": "21fa06eb",
   "metadata": {},
   "outputs": [],
   "source": [
    "L = D - A # Laplacian !"
   ]
  },
  {
   "cell_type": "code",
   "execution_count": 53,
   "id": "63bac8fa",
   "metadata": {},
   "outputs": [
    {
     "data": {
      "text/plain": [
       "1860"
      ]
     },
     "execution_count": 53,
     "metadata": {},
     "output_type": "execute_result"
    }
   ],
   "source": [
    "len(grid.V)"
   ]
  },
  {
   "cell_type": "code",
   "execution_count": 54,
   "id": "12b86a97",
   "metadata": {},
   "outputs": [],
   "source": [
    "# from scipy import sparse\n",
    "# from scipy.sparse.linalg import eigs\n",
    "\n",
    "# K = 110\n",
    "# L_ = sparse.csr_matrix(L)\n",
    "# w, v = eigs(L, k=110)"
   ]
  },
  {
   "cell_type": "code",
   "execution_count": 55,
   "id": "5817d568",
   "metadata": {},
   "outputs": [],
   "source": [
    "from numpy import linalg as LA\n",
    "w, v = LA.eigh(L)"
   ]
  },
  {
   "cell_type": "code",
   "execution_count": 71,
   "id": "8853e1d2",
   "metadata": {},
   "outputs": [],
   "source": [
    "def Green_Function(x, y, w, v) :\n",
    "\n",
    "    idx = np.argsort(w)\n",
    "    w = w[idx]\n",
    "    v = v[:,idx]\n",
    "    \n",
    "    ind_zero = -1\n",
    "    \n",
    "    if np.where(w==0)[0].tolist() != [] : \n",
    "        ind_zero = np.where(w==0)[0][0]\n",
    "    \n",
    "    x_ = np.zeros(len(L))\n",
    "    y_ = np.zeros(len(L))\n",
    "    x_[x] = 1\n",
    "    y_[y] = 1\n",
    "    \n",
    "    return np.sum( [ (1 / (w[k]))*np.dot(x_, v[:,k])*np.dot(y_, v[:,k]) for k in V.values()] )"
   ]
  },
  {
   "cell_type": "code",
   "execution_count": 72,
   "id": "56bf6b06",
   "metadata": {
    "scrolled": true
   },
   "outputs": [],
   "source": [
    "A = np.zeros((2*n+1,2*n+1))\n",
    "\n",
    "for (i,j) in grid.V :\n",
    "    x = Green_Function( V[(i,j)], V[(i,j)] , w, v )\n",
    "        A[(i+n,j+n)] = x"
   ]
  },
  {
   "cell_type": "code",
   "execution_count": 74,
   "id": "06581d1b",
   "metadata": {
    "scrolled": true
   },
   "outputs": [
    {
     "data": {
      "text/plain": [
       "<matplotlib.colorbar.Colorbar at 0x14702fffb3d0>"
      ]
     },
     "execution_count": 74,
     "metadata": {},
     "output_type": "execute_result"
    },
    {
     "data": {
      "image/png": "[encoded data removed]",
      "text/plain": [
       "<Figure size 432x288 with 2 Axes>"
      ]
     },
     "metadata": {
      "needs_background": "light"
     },
     "output_type": "display_data"
    }
   ],
   "source": [
    "import matplotlib.pyplot as plt\n",
    "plt.imshow(A, cmap='hot', interpolation='nearest')\n",
    "plt.colorbar()"
   ]
  }
 ],
 "metadata": {
  "kernelspec": {
   "display_name": "Python 3 (ipykernel)",
   "language": "python",
   "name": "python3"
  },
  "language_info": {
   "codemirror_mode": {
    "name": "ipython",
    "version": 3
   },
   "file_extension": ".py",
   "mimetype": "text/x-python",
   "name": "python",
   "nbconvert_exporter": "python",
   "pygments_lexer": "ipython3",
   "version": "3.9.12"
  }
 },
 "nbformat": 4,
 "nbformat_minor": 5
}
